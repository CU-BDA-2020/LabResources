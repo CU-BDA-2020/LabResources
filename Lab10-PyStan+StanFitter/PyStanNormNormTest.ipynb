{
 "cells": [
  {
   "cell_type": "markdown",
   "metadata": {},
   "source": [
    "# PyStan demo: Normal mean estimation"
   ]
  },
  {
   "cell_type": "markdown",
   "metadata": {},
   "source": [
    "This notebook performs a Stan fit to simulated data from a normal distribution,\n",
    "estimating the mean with a normal prior/normal sampling dist'n model.  It prints\n",
    "summaries of the posterior to the terminal, and plots two figures showing\n",
    "traceplots (of the posterior mean and the log density) and an estimated\n",
    "posterior PDF (blue curve) along with the analytical PDF (green dashed curve).\n",
    "\n",
    "Three statistical tests are run, with results printed to the terminal.  They\n",
    "will occasionally fail even with a sound installation, but this should happen\n",
    "only rarely.\n",
    "\n",
    "**Windows users:**  This example presumes Windows users are using\n",
    "PyStan-2.19+ with Py-3.  Earlier versions did not support parallel\n",
    "computing (running separate chains in separate jobs), and PyStan-2.19\n",
    "only supports parallel computing with Py-3 (and presently this support\n",
    "appears to be unreliable).\n",
    "\n",
    "I strongly recommend using conda to install a current Anaconda Python-3\n",
    "environment, with PyStan installed via `conda install pystan` (i.e., not using\n",
    "the `pip` installer recommended in PyStan's documentation).  This will\n",
    "install a version of the C++ compiler needed by PyStan, and ensure it is\n",
    "compatible with conda's Python installation.\n",
    "\n",
    "\n",
    "Created Apr 16, 2015 by Tom Loredo  \n",
    "2020-04-17:  Modified for Py-3 and BDA20; converted to Jupyter notebook"
   ]
  },
  {
   "cell_type": "markdown",
   "metadata": {},
   "source": [
    "These are needed to handle Windows limitations."
   ]
  },
  {
   "cell_type": "code",
   "execution_count": null,
   "metadata": {},
   "outputs": [],
   "source": [
    "import sys\n",
    "import platform"
   ]
  },
  {
   "cell_type": "markdown",
   "metadata": {},
   "source": [
    "The usual imports and plotting setup, plus `pystan`."
   ]
  },
  {
   "cell_type": "code",
   "execution_count": null,
   "metadata": {},
   "outputs": [],
   "source": [
    "import numpy as np\n",
    "import scipy\n",
    "import matplotlib as mpl\n",
    "from matplotlib.pyplot import *\n",
    "from numpy import *\n",
    "from scipy import stats\n",
    "\n",
    "import pystan\n",
    "from timer import Timer\n",
    "\n",
    "\n",
    "ion()"
   ]
  },
  {
   "cell_type": "markdown",
   "metadata": {},
   "source": [
    "This code is to handle a parallel jobs limitation under Windows. Stan can sample from multiple copies of a Markov chain in parallel, dispatching chains to separate cores. Prior to PyStan-2.19, parallel computation was unavailable under Windows. In PyStan-2.19, parallel computing is *allegedly* supported for Windows 10 with Python-3 (but not Python-2). However, as of 2020-04-17 (with the lastest Anaconda and Windows 10 updates), PyStan fails when attempting to use multiple cores under Windows. This notebook detects whether it is being run under Windows and disable parallel computing in that case.\n",
    "\n",
    "Note `n_jobs = -1` indicates to use all available cores."
   ]
  },
  {
   "cell_type": "code",
   "execution_count": null,
   "metadata": {},
   "outputs": [],
   "source": [
    "py_major = sys.version[:1]\n",
    "if platform.system() == 'Windows':\n",
    "    if py_major == '3':\n",
    "        n_jobs = 1  # docs say this can be -1, but it fails as of 2020-04-17\n",
    "    else:\n",
    "        n_jobs = 1\n",
    "else:\n",
    "    n_jobs = -1  # supported by macOS, Linux"
   ]
  },
  {
   "cell_type": "markdown",
   "metadata": {},
   "source": [
    "Stan code for a conjugate normal-normal model with unknown mean:"
   ]
  },
  {
   "cell_type": "code",
   "execution_count": null,
   "metadata": {},
   "outputs": [],
   "source": [
    "normal_mu_code = \"\"\"\n",
    "data {\n",
    "    int<lower=0> N; // number of samples\n",
    "    real y[N]; // samples\n",
    "}\n",
    "parameters {\n",
    "    real mu;\n",
    "}\n",
    "model {\n",
    "    mu ~ normal(0, 10.);  // prior is a wide normal\n",
    "    for (i in 1:N) {\n",
    "        y[i] ~ normal(mu, 1.);  // sampling dist'n\n",
    "    }\n",
    "}\n",
    "\"\"\""
   ]
  },
  {
   "cell_type": "markdown",
   "metadata": {},
   "source": [
    "Sampling dist'n for data from a unit-standard-deviation normal with mean `mu`:"
   ]
  },
  {
   "cell_type": "code",
   "execution_count": null,
   "metadata": {},
   "outputs": [],
   "source": [
    "# Sampling dist'n for data from a unit-sigma normal @ mu:\n",
    "mu = 5.\n",
    "samp_distn = stats.norm(mu, 1.)\n",
    "\n",
    "# Simulate data:\n",
    "N = 100\n",
    "yvals = samp_distn.rvs(N)"
   ]
  },
  {
   "cell_type": "markdown",
   "metadata": {},
   "source": [
    "Analytical posterior for conjugate normal-normal:"
   ]
  },
  {
   "cell_type": "code",
   "execution_count": null,
   "metadata": {},
   "outputs": [],
   "source": [
    "mu0 = 0.  # prior mean\n",
    "w0 = 10.  # prior width\n",
    "w = 1. / sqrt(N)  # likelihood width\n",
    "ybar = mean(yvals)  # likelihood location\n",
    "B = w**2 / (w**2 + w0**2)  # shrinkage factor\n",
    "mu_post = ybar + B * (mu0 - ybar)\n",
    "sig_post = w * sqrt(1. - B)\n",
    "post_pdf = stats.norm(mu_post, sig_post)"
   ]
  },
  {
   "cell_type": "markdown",
   "metadata": {},
   "source": [
    "**Compile the Stan code:** This is a bit time-consuming (which can make debugging somewhat painful). Here, we do the compilation using a `Timer` context manager provided in the [`timer` module](./timer.py). For more on context managers and Python's `with` statement, see [The `with` statement — Python 3.8.2 documentation](https://docs.python.org/3/reference/compound_stmts.html#the-with-statement) and [a `with` statement tutorial](https://www.pythonforbeginners.com/files/with-statement-in-python).\n",
    "\n",
    "*NOTE:* Watch the terminal running the notebook server, both when compiling Stan code and later, when using the resulting Stan model to fit data. Stan prints some information to the terminal, including compilation errors and sampling progress."
   ]
  },
  {
   "cell_type": "code",
   "execution_count": null,
   "metadata": {
    "scrolled": true
   },
   "outputs": [],
   "source": [
    "with Timer(quiet=False) as timer:\n",
    "    model = pystan.StanModel(model_code=normal_mu_code)"
   ]
  },
  {
   "cell_type": "markdown",
   "metadata": {},
   "source": [
    "For fitting (optimizing or posterior sampling), Stan requires the data to be provided in a *dict*."
   ]
  },
  {
   "cell_type": "code",
   "execution_count": null,
   "metadata": {},
   "outputs": [],
   "source": [
    "normal_mu_data = {'N': N, 'y': yvals}"
   ]
  },
  {
   "cell_type": "markdown",
   "metadata": {},
   "source": [
    "**Posterior sampling:** Run 4 chains of 1000 iters. By default Stan will discard the first half of each sample path as \"warmup\" or \"burn-in,\" so this run will produce 2k samples."
   ]
  },
  {
   "cell_type": "code",
   "execution_count": null,
   "metadata": {},
   "outputs": [],
   "source": [
    "fit = model.sampling(data=normal_mu_data, iter=1000, chains=4, n_jobs=n_jobs)"
   ]
  },
  {
   "cell_type": "markdown",
   "metadata": {},
   "source": [
    "Printing a `fit` instance provides a textual summary of the MCMC results."
   ]
  },
  {
   "cell_type": "code",
   "execution_count": null,
   "metadata": {},
   "outputs": [],
   "source": [
    "print(fit)  # Stan's textual summary"
   ]
  },
  {
   "cell_type": "markdown",
   "metadata": {},
   "source": [
    "## Basic output analysis\n",
    "\n",
    "Samples are stored in an array of three dimensions: [iteration, chain, parameter]"
   ]
  },
  {
   "cell_type": "code",
   "execution_count": null,
   "metadata": {},
   "outputs": [],
   "source": [
    "# By default Stan permutes the samples among all parallel chains/sample paths.\n",
    "# I prefer NOT to do this, because it masks correlations.\n",
    "samples = fit.extract(permuted=False)\n",
    "\n",
    "n_iter, n_ch, n_p1 = samples.shape\n",
    "mu_traces = samples[:, :, 0]\n",
    "logp_traces = samples[:, :, -1]  # log(pdf) of the samples is also available, last"
   ]
  },
  {
   "cell_type": "markdown",
   "metadata": {},
   "source": [
    "Summaries from samples:"
   ]
  },
  {
   "cell_type": "code",
   "execution_count": null,
   "metadata": {},
   "outputs": [],
   "source": [
    "raw_summary = fit.summary()\n",
    "mu_summaries = raw_summary['summary'][0]  # 0 entry for mu; 1 for log(p)\n",
    "mu_mean, mu_mean_se = mu_summaries[:2]  # posterior mean for mu & its std error\n",
    "mu_std = mu_summaries[:2]  # posterior std devn for mu\n",
    "mu_cr95 = (mu_summaries[3], mu_summaries[7])  # boundaries of central 95% region\n",
    "ESS = mu_summaries[8]  # ESS from all post-warmup samples\n",
    "Rhat = mu_summaries[9]  # pot'l scale reduction convergence diagnostic\n",
    "\n",
    "print('\\n\\n***** Stan fit results *****')\n",
    "print(('True mean:         {:.3f}'.format(mu)))\n",
    "print(('An. post. mean:    {:.3f}'.format(mu_post)))\n",
    "print(('Stan post. mean:   {:.3f} +- {:.3f} (MSE)'.format(mu_mean, mu_mean_se)))\n",
    "print(('95% central region: [{:.2f}, {:.2f}]'.format(*mu_cr95)))\n",
    "print(('ESS = {}, Rhat = {:.2f}'.format(ESS, Rhat)))\n",
    "print('****************************\\n')"
   ]
  },
  {
   "cell_type": "markdown",
   "metadata": {},
   "source": [
    "Plot the traces for mu and log(p)."
   ]
  },
  {
   "cell_type": "code",
   "execution_count": null,
   "metadata": {},
   "outputs": [],
   "source": [
    "figure(figsize=(12, 8))\n",
    "mu_ax = subplot(211)\n",
    "logp_ax = subplot(212)\n",
    "\n",
    "for j in range(n_ch):\n",
    "    mu_ax.plot(mu_traces[:, j], alpha=.5)  # alpha to see overlapping traces\n",
    "mu_ax.set_ylabel('$\\mu$')\n",
    "\n",
    "for j in range(n_ch):\n",
    "    logp_ax.plot(logp_traces[:, j], alpha=.5)\n",
    "logp_ax.set_ylabel('$\\log(p)$')\n",
    "logp_ax.set_xlabel('Iteration')"
   ]
  },
  {
   "cell_type": "markdown",
   "metadata": {},
   "source": [
    "Stan's plot, showing a (marginal) PDF and merged trace plot:"
   ]
  },
  {
   "cell_type": "code",
   "execution_count": null,
   "metadata": {
    "scrolled": true
   },
   "outputs": [],
   "source": [
    "fig = fit.traceplot()\n",
    "pdf_ax, trace_ax = fig.get_axes()\n",
    "\n",
    "# Plot analytical PDF on top of Stan's PDF estimate.\n",
    "mu_l, mu_u = pdf_ax.get_xlim()\n",
    "mus = linspace(mu_l, mu_u, 250)\n",
    "pdf = post_pdf.pdf(mus)\n",
    "pdf_ax.plot(mus, pdf, 'g--', lw=3, alpha=.7)"
   ]
  },
  {
   "cell_type": "markdown",
   "metadata": {},
   "source": [
    "## Simple tests\n",
    "\n",
    "Test cases; note they will sometimes (rarely) fail even for correct\n",
    "code.  If the 'return' statements are changed to 'assert', these\n",
    "become valid nose test cases, but nose appears to have issues with PyStan\n",
    "and/or matplotlib."
   ]
  },
  {
   "cell_type": "code",
   "execution_count": null,
   "metadata": {},
   "outputs": [],
   "source": [
    "def test_post_mean():\n",
    "    \"\"\"\n",
    "    Check that Stan's posterior mean matches the analytical mean to within\n",
    "    3* the standard error.  This should fail ~< 1% of the time.\n",
    "    \"\"\"\n",
    "    return abs(mu_mean - mu_post) / mu_mean_se < 3.\n",
    "\n",
    "\n",
    "def test_intvl():\n",
    "    \"\"\"\n",
    "    Check that the true mean is within the 95% interval; this should fail\n",
    "    5% of the time.\n",
    "    \"\"\"\n",
    "    lo, hi = mu_cr95\n",
    "    return (mu > lo) and (mu < hi)\n",
    "\n",
    "\n",
    "def test_Rhat():\n",
    "    \"\"\"\n",
    "    Test that the chain appears to have converged.  This can fail with\n",
    "    correct code if the chain was not run long enough.\n",
    "    \"\"\"\n",
    "    return abs(Rhat - 1.) < 0.05  # slightly more strict than 0.1 convention\n",
    "\n",
    "\n",
    "print('********************************')\n",
    "print('Test results (should be 3*True):\\n', test_post_mean(), test_intvl(), test_Rhat())\n",
    "print('********************************\\n')"
   ]
  }
 ],
 "metadata": {
  "kernelspec": {
   "display_name": "Python 3",
   "language": "python",
   "name": "python3"
  },
  "language_info": {
   "codemirror_mode": {
    "name": "ipython",
    "version": 3
   },
   "file_extension": ".py",
   "mimetype": "text/x-python",
   "name": "python",
   "nbconvert_exporter": "python",
   "pygments_lexer": "ipython3",
   "version": "3.7.0"
  }
 },
 "nbformat": 4,
 "nbformat_minor": 2
}
