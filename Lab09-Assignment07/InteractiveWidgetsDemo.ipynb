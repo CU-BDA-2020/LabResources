{
 "cells": [
  {
   "cell_type": "markdown",
   "metadata": {},
   "source": [
    "# IPython.display and Jupyter widgets"
   ]
  },
  {
   "cell_type": "markdown",
   "metadata": {},
   "source": [
    "User interaction with terminal-based Python interpreters—launched by the `python` and `ipython` commands—is limited to plain-text input and output. Interactive plotting requires launching a separate GUI window to show plot output.\n",
    "\n",
    "Jupyter notebooks run in a web browser (or JupyterLab, which has a browser-like interface), providing the potential for richer input and output interaction.  IPython and the Jupyter project provide modules to support such interaction:  `IPython.display` provides tools for displaying a wide variety of media types under Python control, and `ipywidgets` provides tools enabling GUI interaction with Python code using familiar GUI widgets like sliders, checkboxes, and dropdown menus."
   ]
  },
  {
   "cell_type": "code",
   "execution_count": 1,
   "metadata": {},
   "outputs": [],
   "source": [
    "# Some familiar imports:\n",
    "import numpy as np\n",
    "from numpy import *\n",
    "from scipy.stats import norm\n",
    "import matplotlib.pyplot as plt"
   ]
  },
  {
   "cell_type": "code",
   "execution_count": 2,
   "metadata": {},
   "outputs": [],
   "source": [
    "# Key tools from IPython.display and ipywidgets:\n",
    "from IPython.display import clear_output, display, HTML\n",
    "import ipywidgets as widgets\n",
    "from ipywidgets import interact, interactive, fixed, interact_manual"
   ]
  },
  {
   "cell_type": "code",
   "execution_count": 3,
   "metadata": {},
   "outputs": [],
   "source": [
    "plt.ion()"
   ]
  },
  {
   "cell_type": "markdown",
   "metadata": {},
   "source": [
    "## IPython.display\n",
    "\n",
    "`IPython.display` ([`IPython.display` documentation](http://ipython.readthedocs.io/en/stable/api/generated/IPython.display.html)) is a module containing a variety of classes and functions supporting display of many types of rich media in a Jupyter notebook, including HTML, JavaScript, Markdown, images, and videos (including special support for Vimeo and YouTube videos). You can use Python code to generate some of the media content, and then use a `display` object to render it in a notebook cell.\n",
    "\n",
    "The following function takes any number of keyword arguments, uses them to create a string containing HTML defining a tabular view of the keywords and their values, and then displays the HTML in the notebook using the `HTML` class and the `display` function."
   ]
  },
  {
   "cell_type": "code",
   "execution_count": 4,
   "metadata": {},
   "outputs": [],
   "source": [
    "def show_args(**kwargs):\n",
    "    s = '<h3>Arguments:</h3>\\n<table>\\n'\n",
    "    for k, v in list(kwargs.items()):\n",
    "        s += '<tr><td>{0}</td><td>{1}</td></tr>\\n'.format(k,v)\n",
    "    s += '</table>'\n",
    "    display(HTML(s))"
   ]
  },
  {
   "cell_type": "code",
   "execution_count": 5,
   "metadata": {},
   "outputs": [
    {
     "data": {
      "text/html": [
       "<h3>Arguments:</h3>\n",
       "<table>\n",
       "<tr><td>a</td><td>10</td></tr>\n",
       "<tr><td>b</td><td>Hi There</td></tr>\n",
       "<tr><td>c</td><td>True</td></tr>\n",
       "</table>"
      ],
      "text/plain": [
       "<IPython.core.display.HTML object>"
      ]
     },
     "metadata": {},
     "output_type": "display_data"
    }
   ],
   "source": [
    "show_args(a=10, b='Hi There', c=True)"
   ]
  },
  {
   "cell_type": "markdown",
   "metadata": {},
   "source": [
    "## ipywidgets\n",
    "\n",
    "`ipywidgets` is a module containing a variety of classes and functions supporting GUI interaction with Python objects in a Jupyter notebook. This notebook provides a bare-bones overview.  For more on `ipywidgets`, see:\n",
    "\n",
    "* The [ipywidgets — Jupyter widgets documentation](https://ipywidgets.readthedocs.io/en/latest/index.html), especially the [Simple widget introduction](https://ipywidgets.readthedocs.io/en/latest/examples/Widget%20Basics.html) and [Using `interact` and `interactive`](https://ipywidgets.readthedocs.io/en/latest/examples/Using%20Interact.html).\n",
    "* The [ipywidgets GitHub repo](https://github.com/jupyter-widgets/ipywidgets/blob/master/README.md), especially the [index of tutorial and example notebooks](https://github.com/jupyter-widgets/ipywidgets/blob/e1af98674e46c93c1fffe1e42a20adb2a62dad1e/docs/source/examples/Index.ipynb).\n",
    "* [Project Jupyter | Widgets](http://jupyter.org/widgets) — A collection (currently rather modest) of curated contributed advanced widgets, e.g., for displaying and interacting with maps and tables\n",
    "\n",
    "\n",
    "### Activating widget support\n",
    "\n",
    "**Important:** Widgets are a Jupyter *extension*; the extension must be activated before use. The necessary packages are included with `anaconda`. The documentation indicates that installation with `conda` automatically activates the widgets extension, but sometimes this may not happen when installing `anaconda` in a conda environment.  To list your current active extensions, run this (in your `bda20` env):\n",
    "\n",
    "    $ jupyter nbextension list\n",
    "\n",
    "Look for a line indicating the widgets extension is enabled; it should look similar to this:\n",
    "\n",
    "    jupyter-js-widgets/extension  enabled\n",
    "\n",
    "If widgets are *not* enabled for you, run this *in the env hosting the Jupyter server you will use*:\n",
    "\n",
    "    $ jupyter nbextension enable --py --sys-prefix widgetsnbextension\n",
    "\n",
    "This is a persistant setting; it needn't be reactivated each time the conda env is activated.\n",
    "\n",
    "Note that the `--sys-prefix` option is probably important for users who use conda extensions (even if some docs omit it). See [Issue #541 · jupyter-widgets/ipywidgets](https://github.com/jupyter-widgets/ipywidgets/issues/541) for discussion of this (as of late 2017).\n",
    "\n",
    "JupyterLab has its own widget extension that may need to be installed separately if you want to use widgets in JupyterLab. If you're a JupyterLab user, for the latest info, see: [Installation — Jupyter Widgets documentation](https://ipywidgets.readthedocs.io/en/latest/user_install.html#installing-the-jupyterlab-extension). "
   ]
  },
  {
   "cell_type": "markdown",
   "metadata": {},
   "source": [
    "### Basic widgets\n",
    "\n",
    "Here's a simple widget—a slider providing an interface to a Python integer value:"
   ]
  },
  {
   "cell_type": "code",
   "execution_count": 6,
   "metadata": {},
   "outputs": [
    {
     "data": {
      "application/vnd.jupyter.widget-view+json": {
       "model_id": "49ebca3d79af414cabab05a61053484f",
       "version_major": 2,
       "version_minor": 0
      },
      "text/plain": [
       "IntSlider(value=0)"
      ]
     },
     "metadata": {},
     "output_type": "display_data"
    }
   ],
   "source": [
    "widgets.IntSlider()"
   ]
  },
  {
   "cell_type": "markdown",
   "metadata": {},
   "source": [
    "Here we relied on the fact that widgets provide a `__repr__` method (the method Python calls when you just enter an instance at a prompt) that displays the widget's GUI interface.  More generally, you display a widget using `display`:"
   ]
  },
  {
   "cell_type": "code",
   "execution_count": 7,
   "metadata": {},
   "outputs": [],
   "source": [
    "islider = widgets.IntSlider()"
   ]
  },
  {
   "cell_type": "code",
   "execution_count": 8,
   "metadata": {},
   "outputs": [
    {
     "data": {
      "application/vnd.jupyter.widget-view+json": {
       "model_id": "d19a2e8cfd7e43d591984d95494e016d",
       "version_major": 2,
       "version_minor": 0
      },
      "text/plain": [
       "IntSlider(value=0)"
      ]
     },
     "metadata": {},
     "output_type": "display_data"
    }
   ],
   "source": [
    "display(islider)"
   ]
  },
  {
   "cell_type": "markdown",
   "metadata": {},
   "source": [
    "A displayed widget comprises a \"view\" of the underlying widget \"model.\" The model tracks the state of the widget object; here, the state is just the value of the integer represented by the slider. The same model can have multiple views (in different notebook cells); when this is the case, the views are *synchronized*."
   ]
  },
  {
   "cell_type": "code",
   "execution_count": 9,
   "metadata": {},
   "outputs": [
    {
     "data": {
      "application/vnd.jupyter.widget-view+json": {
       "model_id": "d19a2e8cfd7e43d591984d95494e016d",
       "version_major": 2,
       "version_minor": 0
      },
      "text/plain": [
       "IntSlider(value=0)"
      ]
     },
     "metadata": {},
     "output_type": "display_data"
    }
   ],
   "source": [
    "display(islider)"
   ]
  },
  {
   "cell_type": "markdown",
   "metadata": {},
   "source": [
    "Widgets have attributes and methods that let you set and access their state:"
   ]
  },
  {
   "cell_type": "code",
   "execution_count": 10,
   "metadata": {},
   "outputs": [
    {
     "data": {
      "text/plain": [
       "['__class__',\n",
       " '__del__',\n",
       " '__delattr__',\n",
       " '__dict__',\n",
       " '__dir__',\n",
       " '__doc__',\n",
       " '__eq__',\n",
       " '__format__',\n",
       " '__ge__',\n",
       " '__getattribute__',\n",
       " '__getstate__',\n",
       " '__gt__',\n",
       " '__hash__',\n",
       " '__init__',\n",
       " '__init_subclass__',\n",
       " '__le__',\n",
       " '__lt__',\n",
       " '__module__',\n",
       " '__ne__',\n",
       " '__new__',\n",
       " '__reduce__',\n",
       " '__reduce_ex__',\n",
       " '__repr__',\n",
       " '__setattr__',\n",
       " '__setstate__',\n",
       " '__sizeof__',\n",
       " '__str__',\n",
       " '__subclasshook__',\n",
       " '__weakref__',\n",
       " '_add_notifiers',\n",
       " '_call_widget_constructed',\n",
       " '_comm_changed',\n",
       " '_compare',\n",
       " '_cross_validation_lock',\n",
       " '_default_keys',\n",
       " '_display_callbacks',\n",
       " '_dom_classes',\n",
       " '_gen_repr_from_keys',\n",
       " '_get_embed_state',\n",
       " '_handle_custom_msg',\n",
       " '_handle_displayed',\n",
       " '_handle_msg',\n",
       " '_holding_sync',\n",
       " '_ipython_display_',\n",
       " '_is_numpy',\n",
       " '_lock_property',\n",
       " '_log_default',\n",
       " '_model_id',\n",
       " '_model_module',\n",
       " '_model_module_version',\n",
       " '_model_name',\n",
       " '_msg_callbacks',\n",
       " '_notify_trait',\n",
       " '_property_lock',\n",
       " '_register_validator',\n",
       " '_remove_notifiers',\n",
       " '_repr_keys',\n",
       " '_send',\n",
       " '_should_send_property',\n",
       " '_states_to_send',\n",
       " '_trait_default_generators',\n",
       " '_trait_from_json',\n",
       " '_trait_notifiers',\n",
       " '_trait_to_json',\n",
       " '_trait_validators',\n",
       " '_trait_values',\n",
       " '_validate_max',\n",
       " '_validate_min',\n",
       " '_validate_value',\n",
       " '_view_count',\n",
       " '_view_module',\n",
       " '_view_module_version',\n",
       " '_view_name',\n",
       " '_widget_construction_callback',\n",
       " 'add_class',\n",
       " 'add_traits',\n",
       " 'class_own_trait_events',\n",
       " 'class_own_traits',\n",
       " 'class_trait_names',\n",
       " 'class_traits',\n",
       " 'close',\n",
       " 'close_all',\n",
       " 'comm',\n",
       " 'continuous_update',\n",
       " 'cross_validation_lock',\n",
       " 'description',\n",
       " 'description_tooltip',\n",
       " 'disabled',\n",
       " 'get_interact_value',\n",
       " 'get_manager_state',\n",
       " 'get_state',\n",
       " 'get_view_spec',\n",
       " 'handle_comm_opened',\n",
       " 'has_trait',\n",
       " 'hold_sync',\n",
       " 'hold_trait_notifications',\n",
       " 'keys',\n",
       " 'layout',\n",
       " 'log',\n",
       " 'max',\n",
       " 'min',\n",
       " 'model_id',\n",
       " 'notify_change',\n",
       " 'observe',\n",
       " 'on_displayed',\n",
       " 'on_msg',\n",
       " 'on_trait_change',\n",
       " 'on_widget_constructed',\n",
       " 'open',\n",
       " 'orientation',\n",
       " 'readout',\n",
       " 'readout_format',\n",
       " 'remove_class',\n",
       " 'send',\n",
       " 'send_state',\n",
       " 'set_state',\n",
       " 'set_trait',\n",
       " 'setup_instance',\n",
       " 'step',\n",
       " 'style',\n",
       " 'trait_events',\n",
       " 'trait_metadata',\n",
       " 'trait_names',\n",
       " 'traits',\n",
       " 'unobserve',\n",
       " 'unobserve_all',\n",
       " 'value',\n",
       " 'widget_types',\n",
       " 'widgets']"
      ]
     },
     "execution_count": 10,
     "metadata": {},
     "output_type": "execute_result"
    }
   ],
   "source": [
    "dir(islider)"
   ]
  },
  {
   "cell_type": "code",
   "execution_count": 11,
   "metadata": {},
   "outputs": [
    {
     "name": "stdout",
     "output_type": "stream",
     "text": [
      "0\n"
     ]
    }
   ],
   "source": [
    "# Access the current state:\n",
    "print(islider.value)"
   ]
  },
  {
   "cell_type": "code",
   "execution_count": 12,
   "metadata": {},
   "outputs": [],
   "source": [
    "# Set the state:\n",
    "islider.value = 30"
   ]
  },
  {
   "cell_type": "markdown",
   "metadata": {},
   "source": [
    "### The interact and interactive functions\n",
    "\n",
    "The simplest way to interact with widgets is via the `interact` and `interactive` functions. These functions exploit Python's *keyword argument* support. You provide these functions a function that accepts keyword arguments. You additionally provide those keyword arguments, assigning them to widgets that provide and display the values of the keyword arguments. To simplify things, the `interact` and `interactive` functions recognize *widget abbreviations*.\n",
    "\n",
    "Widget abbreviations can be as simple as a Python int or a float; `interact(ive)` will take that to mean you want it to use a slider widget of the appropriate type with a default range. Alternatively, you can provide a tuple with a range and optional step size, or a full widget object.  Other types (boolean, strings, lists) can serve as handy abbreviations of appropriate widgets.\n",
    "\n",
    "Here's an example, using the `show_args` HTML table display function from above."
   ]
  },
  {
   "cell_type": "code",
   "execution_count": 13,
   "metadata": {
    "scrolled": true
   },
   "outputs": [
    {
     "data": {
      "application/vnd.jupyter.widget-view+json": {
       "model_id": "bdc8887bfd1845e7b2ae13ea4263a2fb",
       "version_major": 2,
       "version_minor": 0
      },
      "text/plain": [
       "interactive(children=(IntSlider(value=5, description='Temp', max=10), FloatSlider(value=5.0, description='Curr…"
      ]
     },
     "metadata": {},
     "output_type": "display_data"
    }
   ],
   "source": [
    "i = interact(show_args,\n",
    "         Temp=(0,10),\n",
    "         Current=(0.,10.,0.01),\n",
    "         z=True,\n",
    "         Text='Type here!',\n",
    "         a=widgets.FloatSlider(min=-10.0, max=10.0, step=0.1, value=5.0, description=\"Float (a)\")\n",
    "         )\n",
    "\n",
    "# Note:  If `show_args` had a return value, `interact` would display it\n",
    "# using an appropriate widget."
   ]
  },
  {
   "cell_type": "markdown",
   "metadata": {},
   "source": [
    "### Interactive plotting\n",
    "\n",
    "To build interactive plots, you can simply define a function drawing a plot that takes keyword args providing the values of the interactive elements.  Here's an example drawing a normal distribution PDF whose mean and standard deviation are controlled by sliders.  Here we use the `interactive` function rather than `interact`; `interactive` returns a widget collection object rather than immediately displaying the widgets. This is handy if you want to access results of the interaction later in the notebook. "
   ]
  },
  {
   "cell_type": "code",
   "execution_count": 14,
   "metadata": {},
   "outputs": [],
   "source": [
    "def plot_normal(mu=0., sigma=1.):\n",
    "    fig = plt.figure()\n",
    "    ax = fig.add_subplot(111)\n",
    "    \n",
    "    xvals = linspace(-5, 5, 100)\n",
    "    ax.set_xlim(xvals[0], xvals[-1])\n",
    "    ax.set_ylim(0, 1.)\n",
    "\n",
    "    distn = norm(mu, sigma)\n",
    "    yvals = distn.pdf(xvals)\n",
    "    ax.plot(xvals, yvals, 'b-', lw=2)\n",
    "    \n",
    "    ax.annotate(r'$\\mu={:.1f}$'.format(mu), xy=(.75, .9),  xycoords='axes fraction', fontsize=15)\n",
    "    ax.annotate(r'$\\sigma={:.1f}$'.format(sigma), xy=(.75, .82),  xycoords='axes fraction', fontsize=15)\n",
    "    \n",
    "    return sigma*sqrt(2*pi)  # return value will get stored in .result "
   ]
  },
  {
   "cell_type": "code",
   "execution_count": 15,
   "metadata": {},
   "outputs": [
    {
     "data": {
      "text/plain": [
       "2.5066282746310002"
      ]
     },
     "execution_count": 15,
     "metadata": {},
     "output_type": "execute_result"
    },
    {
     "data": {
      "image/png": "[encoded data removed]",
      "text/plain": [
       "<Figure size 432x288 with 1 Axes>"
      ]
     },
     "metadata": {
      "needs_background": "light"
     },
     "output_type": "display_data"
    }
   ],
   "source": [
    "plot_normal()"
   ]
  },
  {
   "cell_type": "code",
   "execution_count": 16,
   "metadata": {},
   "outputs": [],
   "source": [
    "# Put the plot drawing function in a widget collection:\n",
    "widget = interactive(plot_normal, mu=(-3., 3.), sigma=(.5, 3.))"
   ]
  },
  {
   "cell_type": "code",
   "execution_count": 17,
   "metadata": {},
   "outputs": [
    {
     "data": {
      "application/vnd.jupyter.widget-view+json": {
       "model_id": "9fdddefb43e24f21be0975ff3b8fbfb7",
       "version_major": 2,
       "version_minor": 0
      },
      "text/plain": [
       "interactive(children=(FloatSlider(value=0.0, description='mu', max=3.0, min=-3.0), FloatSlider(value=1.0, desc…"
      ]
     },
     "metadata": {},
     "output_type": "display_data"
    }
   ],
   "source": [
    "# You have to explicitly display the widget collection.\n",
    "display(widget)"
   ]
  },
  {
   "cell_type": "code",
   "execution_count": 18,
   "metadata": {},
   "outputs": [
    {
     "data": {
      "text/plain": [
       "{'mu': 0.0, 'sigma': 1.0}"
      ]
     },
     "execution_count": 18,
     "metadata": {},
     "output_type": "execute_result"
    }
   ],
   "source": [
    "widget.kwargs"
   ]
  },
  {
   "cell_type": "code",
   "execution_count": 19,
   "metadata": {},
   "outputs": [
    {
     "name": "stdout",
     "output_type": "stream",
     "text": [
      "mu = 0.0, sigma = 1.0\n"
     ]
    }
   ],
   "source": [
    "print('mu = {}, sigma = {}'.format(widget.kwargs['mu'], widget.kwargs['sigma']))"
   ]
  },
  {
   "cell_type": "code",
   "execution_count": 20,
   "metadata": {},
   "outputs": [
    {
     "data": {
      "text/plain": [
       "2.5066282746310002"
      ]
     },
     "execution_count": 20,
     "metadata": {},
     "output_type": "execute_result"
    }
   ],
   "source": [
    "widget.result"
   ]
  }
 ],
 "metadata": {
  "kernelspec": {
   "display_name": "Python 3",
   "language": "python",
   "name": "python3"
  },
  "language_info": {
   "codemirror_mode": {
    "name": "ipython",
    "version": 3
   },
   "file_extension": ".py",
   "mimetype": "text/x-python",
   "name": "python",
   "nbconvert_exporter": "python",
   "pygments_lexer": "ipython3",
   "version": "3.7.0"
  }
 },
 "nbformat": 4,
 "nbformat_minor": 4
}
