{
 "cells": [
  {
   "cell_type": "markdown",
   "metadata": {},
   "source": [
    "# Assignment 08\n",
    "\n",
    "**Due:** 2020-05-04 (Mon), 11:59 PM, as a Jupyter notebook (with related files) submitted via your repo in the course GitHub organization.  Use the solutions template notebook, and **be sure not to modify the subproblem cells** in your solution file.  This assignment is **mandatory**.\n",
    "\n",
    "**NOTE:** Doing all of the calculations for these problems entirely in your Solutions Jupyter notebook may make the notebook unwieldy (both to work on, and to grade).  In addition, you will probably find it easier to debug parts of your work in a script rather than in a notebook.\n",
    "\n",
    "Accordingly, aim to execute *just a single fit in your solution notebook* for this assignment.  Other work can be done in a script, with figures saved as PNG files via matplotlib's `savefig` command, and placed in the notebook in a Markdown cell. You can use standard Markdown markup for inserting images, e.g., `![Description](imag-file-name.png)`. Alternatively, you can use an HTML tag, which lets you control the image size in the notebook (see Markdown cells below for examples).\n",
    "\n",
    "If you prefer debugging in a Jupyter notebook, note that you can convert a notebook to a script (but not the other way around) by using Jupyter's `nbconvert` command in the terminal.  For example,\n",
    "\n",
    "    jupyter nbconvert --to script Solutions08.ipynb\n",
    "\n",
    "will convert the solutions template notebook into a Python script named \"Solutions08.py\".  You may rename that, but indicate the name (or names) of the scripts you used for results placed in the notebook in the next Markdown cell.\n",
    "\n",
    "**Make sure you commit, not just your notebook, but also all of the Python modules, scripts, and images needed to run the notebook and to produce the content included in it.**\n",
    "\n",
    "**Do not commit your cached Stan model files.** Those are platform-dependent."
   ]
  },
  {
   "cell_type": "markdown",
   "metadata": {},
   "source": [
    "## Use our .gitignore file\n",
    "\n",
    "In the LabResources repo, at the top level, you'll find a file named `bda20.gitignore`.\n",
    "* Copy it to the top level of your assignments repo (the same folder holding the hidden `.git` folder).\n",
    "* Rename it to `.gitignore` (note the leading `.`). This will probably result in the file becoming hidden (like the `.git` folder). That's fine.\n",
    "* `git` or your Git GUI may prompt you to track the `.gitignore` file. You may do so, but it's not strictly necessary.\n",
    "\n",
    "This file tells `git` what types of files **not** to track. In particular, it will prevent `git` from suggesting that you track cached Stan model files, or cached compiled Python code."
   ]
  },
  {
   "cell_type": "markdown",
   "metadata": {},
   "source": [
    "## Accompanying scripts:\n",
    "\n",
    "myscript.py **<-- EDIT identifying accompanying scripts**"
   ]
  },
  {
   "cell_type": "code",
   "execution_count": 1,
   "metadata": {},
   "outputs": [],
   "source": [
    "# The usual imports:\n",
    "import numpy as np\n",
    "import scipy\n",
    "import matplotlib as mpl\n",
    "from matplotlib.pyplot import *\n",
    "from numpy import *\n",
    "from scipy import stats"
   ]
  },
  {
   "cell_type": "code",
   "execution_count": 2,
   "metadata": {},
   "outputs": [],
   "source": [
    "ion()"
   ]
  },
  {
   "cell_type": "markdown",
   "metadata": {},
   "source": [
    "## Linear regression and global warming\n",
    "\n",
    "**Note:  This exercise does not comprise a serious analysis of global warming data!**  This exercise is meant to give you some experience with both linear regression and Stan, and to help you gain some insight into issues, both subtle and not-so-subtle, that arise in trying to predict the behavior of a complex system using *phenomenological models* (i.e., not physical or first-principles models; see [Phenomenological model - Wikipedia](https://en.wikipedia.org/wiki/Phenomenological_model)).\n",
    "\n",
    "A Python module, implemented in `climate_helpers.py`, accompanies this assignment; it includes both code and data you'll use for your solutions.  Also, the StanFitter module, `stanfitter.py`, which you used earlier, accompanies this assignment."
   ]
  },
  {
   "cell_type": "code",
   "execution_count": 3,
   "metadata": {
    "scrolled": true
   },
   "outputs": [],
   "source": [
    "from climate_helpers import giss_temp_data, years, dTs, MonomialBasis, ChebyshevBasis\n",
    "from stanfitter import StanFitter"
   ]
  },
  {
   "cell_type": "markdown",
   "metadata": {},
   "source": [
    "The `climate_helpers` module provides time series data from NASA's Goddard Institute for Space Science (GISS). GISS scientists carefully compute the *Global Annual Mean Surface Air Temperature Change* (reported as a *temperature anomaly*, i.e., a temperature change from a fiducial period, in degrees C) based on a wide array of input data, available back to 1880.  The data are hosted [at GISS](https://data.giss.nasa.gov/gistemp/); NASA hosts several web sites discussing this and other data pertinent to climate change, including [sites directed to a nontechnical audience](http://climate.nasa.gov/vital-signs/global-temperature/).\n",
    "\n",
    "Computing global temperatures and temperature changes is a tricky business.  If you'd like to learn more about it, check out these resources:\n",
    "* [Pubs.GISS: Hansen et al. 2010: Global surface temperature change](https://pubs.giss.nasa.gov/abs/ha00510u.html) — This describes the methodology used to produce the GISS data.\n",
    "* [Climate Resource Center - Earth's temperature record](https://climate.nasa.gov/climate_resources/9/graphic-earths-temperature-record/)\n",
    "* [Why so many global temperature records?](https://climate.nasa.gov/news/2241/why-so-many-global-temperature-records/)\n",
    "* [\"Berkeley Earth: raw versus adjusted temperature data \" (Climate Etc. blog)](http://judithcurry.com/2015/02/09/berkeley-earth-raw-versus-adjusted-temperature-data/)\n",
    "\n",
    "Here's what the GISS time series looks like:"
   ]
  },
  {
   "cell_type": "code",
   "execution_count": 4,
   "metadata": {},
   "outputs": [
    {
     "data": {
      "text/plain": [
       "Text(0, 0.5, '$\\\\Delta T$ (C)')"
      ]
     },
     "execution_count": 4,
     "metadata": {},
     "output_type": "execute_result"
    },
    {
     "data": {
      "image/png": "[encoded data removed]",
      "text/plain": [
       "<Figure size 576x360 with 1 Axes>"
      ]
     },
     "metadata": {
      "needs_background": "light"
     },
     "output_type": "display_data"
    }
   ],
   "source": [
    "temp_fig = figure(figsize=(8,5))\n",
    "temp_ax = axes()\n",
    "plot(years, dTs, 'b-', alpha=.3)\n",
    "# plot(years, dTs, ls='None', marker='o', ms=8, mfc='b', mew=0, alpha=.7)\n",
    "plot(years, dTs, ls='None', marker='o', ms=6, mfc='b', mew=0, alpha=.7)\n",
    "xlabel('Year')\n",
    "ylabel(r'$\\Delta T$ (C)')"
   ]
  },
  {
   "cell_type": "markdown",
   "metadata": {},
   "source": [
    "In this exercise, we'll explore fitting the data, and predicting the future temperature anomaly to 2050, based on linear regression in a polynomial basis, with a normal conditional distribution for the temperature anomaly at a given time (reflecting a combination of natural variation and measurement error; we'll determine the width of the conditional distribution from the data).\n",
    "\n",
    "We'll consider _**two different polynomial bases**_, covering times out to 2050:"
   ]
  },
  {
   "cell_type": "code",
   "execution_count": 5,
   "metadata": {},
   "outputs": [],
   "source": [
    "# Extended array of years, including prediction interval:\n",
    "xyears = arange(years[0], 2051.)"
   ]
  },
  {
   "cell_type": "markdown",
   "metadata": {},
   "source": [
    "The module provides two classes for building polynomials and evaluating them on an array of times to build the set of basis functions for regression (aka, the design matrix).  One uses the familiar **monomials** (1, $x$, $x^2$, $x^3$, $\\ldots$).  The other uses **Chebyshev polynomials**, an *orthogonal basis* (see [Chebyshev Polynomial of the First Kind at MathWorld](https://mathworld.wolfram.com/ChebyshevPolynomialoftheFirstKind.html) and [Chebyshev polynomials at Wikipedia](http://en.wikipedia.org/wiki/Chebyshev_polynomials); the first few basis functions are 1, $x$, $2x^2-1$, $4x^3 - 3x$).  The classes that define them for you also let you define **independent normal priors over the polynomial coefficients**, so we can study how the choice of basis and priors may potentially influence inferences.\n",
    "\n",
    "Take a look at the code so you have a basic grasp of how the bases are computed (you won't be modifying the code, so you needn't understand it in detail).  Note that, internally, the classes map the years to a variable $x \\in [-1,1]$, to help make the basis functions numerically well-behaved and of similar scale to each other."
   ]
  },
  {
   "cell_type": "code",
   "execution_count": 6,
   "metadata": {},
   "outputs": [],
   "source": [
    "# 5th-degree bases with zero-mean priors, sig=2:\n",
    "deg = 5  # number of terms = deg + 1\n",
    "mono = MonomialBasis(deg, xyears, sigma=2.)\n",
    "cheb = ChebyshevBasis(deg, xyears, sigma=2.)"
   ]
  },
  {
   "cell_type": "markdown",
   "metadata": {},
   "source": [
    "After creating a basis instance, the **`basis`** attribute (e.g., `mono.basis`) is a 2-D array `basis[i,j]` that gives the value of basis function `j` at time `i`; this is the transpose of the $g_{\\alpha i}$ matrix from the lectures on regression, i.e., it is the design matrix.\n",
    "\n",
    "There are two methods that you'll use.  For a 1-D array of coefficients, `beta`, the method call **`func(beta)`** evaluates the polynomial defined by `beta` over all the times (years), returning a 1-D array of values $f_i$, with\n",
    "$$\n",
    "f_i = \\sum_j \\beta_j g_j(t_i),\n",
    "$$\n",
    "where $g_j(t)$ is basis function $j$.\n",
    "\n",
    "The method call **`sample()`** returns a polynomial sampled from the prior, as a 1-D array of values at all the times.  That is, it samples $\\beta_j$ values from the priors, and then evaluates the polynomial with those coefficients.  As a (deliberately vague!) example, one choice of basis and degree produces this set of 50 prior samples:\n",
    "\n",
    "<img width=650 src=\"climate-PolyPriorSamplesEx.png\">"
   ]
  },
  {
   "cell_type": "markdown",
   "metadata": {
    "tags": [
     "problem=1",
     "points=1"
    ]
   },
   "source": [
    "### Problem 1 (1 point):\n",
    "\n",
    "> * Make a 2-panel plot (use `figure(figsize=(...))` and `subplot(...)` with appropriate arguments), showing 50 samples from each of the two degree 5 bases just defined.  Be sure to title the subplots, identifying the cases.  If done correctly, the two plots should look quite different.\n",
    "> * From the perspective of an investigator wanting to be noncommital about global temperature trends a priori, which basis/prior combination appears to be the better one to you?  Briefly explain why."
   ]
  },
  {
   "cell_type": "markdown",
   "metadata": {},
   "source": [
    "For a problem where there aren't clear principles defining a unique prior, a good Bayesian analysis will be concerned with *robustness of conclusions with respect to priors*.  The investigator should examine how much the findings are affected by reasonable changes in priors.\n",
    "\n",
    "Here, one way you'll get a handle on robustness to priors is to try fits with **both** bases.  Even if you use priors of the same form for the coefficients in both bases, these priors express quite different prior distributions over the space of polynomials. (That is, even though we are using the name `beta` or the symbols $\\beta_\\alpha$ for the coefficients in each basis, the coefficients mean something different for each basis, so assigning the *same* prior PDFs over them corresponds to *different* priors over the space of polynomials. We could make this extra clear by giving different names to the coefficients in each case, but that would make the code unwieldy.)\n",
    "\n",
    "Importantly, you will also explore robustness of inferences with respect to the **degree** of the basis.  The degree is essentially a discrete parameter.  A more complete analysis than you'll pursue here would try to quantify uncertainty in the polynomial degree (e.g., via Bayes factors or out-of-sample predictive criteria).  You'll explore that degree of freedom in this problem only qualitatively here.\n",
    "\n",
    "You now have data and basis functions for linear models; next do some fits."
   ]
  },
  {
   "cell_type": "markdown",
   "metadata": {
    "tags": [
     "problem=2",
     "points=1"
    ]
   },
   "source": [
    "### Problem 2 (1 point):\n",
    "\n",
    "> * Below you'll find incomplete Stan code for a linear regression model for the global warming data.  The `model` section is empty.  Complete it, consulting the [Stan Modeling Language User's Guide](http://mc-stan.org/users/documentation/index.html) for how to build regression models in Stan (see Section 1.1, on linear regression; note that the basis functions include the \"intercept\" term discussed at the end of that section).  The model code should have three main ingredients:\n",
    "    * Priors for the coefficients (set in a loop over the coefficients in the `beta` vector); use zero-mean normal priors with $\\sigma = 2$, as used for your prior sample plots.\n",
    "    * A prior for $\\sigma$, the conditional standard deviation for the temperature measurements.  Adopt an exponential prior with a mean of 2., a broad prior compared to the visual scale of the temperature fluctuations over short time spans.\n",
    "    * A sampling distribution (defining the likelihood function) for the temperature change data vector.  Do this using Stan's implicit looping capability (i.e., write it without using a `for` loop; this is discussed in that same section).\n",
    "> * Compile the model with StanFitter.\n",
    "\n",
    "Note that since the basis gets passed in as \"data\" (including the number of coefficients) *you only need a single fitter instance* to fit multiple models with different bases and degrees.  You'll only have to alter the code and recompile it if you change the priors (other than changing the bases)."
   ]
  },
  {
   "cell_type": "code",
   "execution_count": 7,
   "metadata": {},
   "outputs": [],
   "source": [
    "# Stan code for linear regression:\n",
    "lin_regn_code = \"\"\"\n",
    "data {\n",
    "    int<lower=0> n; // number of times sampled\n",
    "    int<lower=0> m; // number of coeff = deg + 1\n",
    "    matrix[n,m] basis; // basis funcs, aka design matrix\n",
    "    vector[n] dT; // temp change\n",
    "}\n",
    "\n",
    "parameters {\n",
    "    vector[m] beta;  // coeficients\n",
    "    real<lower=0> sigma;  // noise scale\n",
    "}\n",
    "\n",
    "model {\n",
    "    // FILL IN HERE; SEE STAN MANUAL\n",
    "}\n",
    "\"\"\"\n",
    "\n",
    "# Uncomment to compile finished code:\n",
    "# fitter = StanFitter(lin_regn_code, name='lin_regn')"
   ]
  },
  {
   "cell_type": "markdown",
   "metadata": {},
   "source": [
    "You'll use the `fitter` instance as we did in previous exercises, but you'll use some new capabilities.\n",
    "\n",
    "`fitter.mode()`\n",
    "\n",
    "runs Stan's default optimizer, returning the posterior mode as an object with both a dict and an attribute interface to the parameter values and the log density.  That is, if you write\n",
    "\n",
    "    mode = fitter.mode()\n",
    "\n",
    "then `mode.sigma` and `mode['sigma']` are both ways to access the value of $\\sigma$ at the mode, and `mode.beta` and `mode['beta']` are *arrays* with the values of the coefficients at the mode. Likewise, `mode.log_p` and `mode['log_p']` give the log of the posterior density at the mode.\n",
    "\n",
    "_**IMPORTANT NOTE:**_ `Stan` treats arrays as 1-based (the first element of `beta` is accessed using `beta[1]`), while Python treats arrays as 0-based (the first element is accessed using `beta[0]`).\n",
    "\n",
    "The `StanFitResults` instance returned by\n",
    "\n",
    "    fit = fitter.sample(...)\n",
    "\n",
    "has useful attributes you may not have explored yet.  After sampling, the fitter finds the smallest ESS among the parameter Markov chains, and uses it to provide an array of samples for each parameter constructed by thinning the chains and concatenating them, for each parameter. You may find the following attributes and methods useful for working with the thinned chains.\n",
    "* `fit.min_ess` tells you the smallest ESS among the parameter Markov chains.\n",
    "* `fit.thinned_by` tells you by how much each chain was thinned.\n",
    "* `fit.sigma.thinned`, `fit.beta[0].thinned`, etc., give you access to the thinned, merged chain for each parameter (including `log_p`).\n",
    "* `fit.subsample_indices(n)` returns a list of `n` randomly chosen indices into the thinned, merged chains, which you can use to pull out a subset of posterior samples chosen fairly across the merged chains.\n",
    "* `fit.point(t)` returns all of the parameter values at time `t` in the set of thinned chains.  It's the same kind of object as is returned by `fitter.mode()`.\n",
    "\n",
    "You'll use these capabilities to produce plots resembling this one:\n",
    "\n",
    "<img width=650 src=\"climate-PolyFitEx.png\">"
   ]
  },
  {
   "cell_type": "markdown",
   "metadata": {
    "tags": [
     "problem=3",
     "points=2"
    ]
   },
   "source": [
    "### Problem 3 (2 points):\n",
    "\n",
    "> * Write a function, `fit_model`, building on the stub provided below, that does the following, producing a single plot:\n",
    "  * Build a basis of specified type and degree.\n",
    "  * Fit the data, obtaining the posterior mode and posterior samples.\n",
    "  * Plot the data.\n",
    "  * Plot 40 polynomials sampled from the posterior, as thin curves with colors automatically chose by matplotlib.  Use a small `alpha` opacity (say, .2), so curves remain visible despite overlap.\n",
    "  * Plot a thick dashed curve showing the polynomial corresponding to the mode.\n",
    "  * Plot a single error bar somewhere along the curve displaying the value of $\\sigma$ at the mode.\n",
    "  * Return the (MCMC) fit results and mode.\n",
    "> Your work for this subproblem should all be in the next single cell; you'll *use* the function below."
   ]
  },
  {
   "cell_type": "code",
   "execution_count": 8,
   "metadata": {},
   "outputs": [],
   "source": [
    "def fit_model(fitter, Poly, deg, csig, n_iter=1000, n_chains=4,\n",
    "              years=years, dTs=dTs, xyears=xyears):\n",
    "    \"\"\"\n",
    "    Fit the data and summarize results.\n",
    "\n",
    "    Parameters\n",
    "    ----------\n",
    "    \n",
    "    fitter : StanFitter instance\n",
    "    \n",
    "    Poly : Polynomial basis class\n",
    "    \n",
    "    deg : int\n",
    "        Degree of polynomial to fit\n",
    "\n",
    "    csig : float\n",
    "        Coeffient prior standard deviation\n",
    "\n",
    "    n_iter, n_chains : int\n",
    "        The number of iterations per chain, and number of chains, for Stan fits\n",
    "\n",
    "    years, dTs, xyears : float arrays\n",
    "        Data (years, dTs) and extended years covering data and prediction\n",
    "        interval (xyears)\n",
    "    \"\"\"\n",
    "    nbeta = deg + 1  # number of coefs\n",
    "    # Build a basis over the fit+prediction interval.\n",
    "    poly = Poly(deg, xyears, sigma=csig)\n",
    "    # For fitting the data, pull out the part spanning years.\n",
    "    data_basis = poly.basis[:len(years),:]\n",
    "    # Data dict for Stan:\n",
    "    data = dict(n=len(years), m=nbeta, basis=data_basis, dT=dTs)\n",
    "\n",
    "    # Do the fit, MCMC and optimization:\n",
    "    fitter.set_data(data)\n",
    "    fit = fitter.sample(n_iter, n_chains)\n",
    "    mode = fitter.mode()\n",
    "\n",
    "    # Plot dTs:\n",
    "    temp_fig = figure()\n",
    "    temp_ax = axes()\n",
    "    plot(years, dTs, 'b-', alpha=.3)\n",
    "    plot(years, dTs, ls='None', marker='o', ms=6, mfc='b', mew=0, alpha=.7)\n",
    "    xlabel('Year')\n",
    "    ylabel(r'$\\Delta T$ (C)')\n",
    "    xlim(xyears[0], xyears[-1])\n",
    "    ylim(-1.5, 1.5)\n",
    "\n",
    "    # MUCH MORE HERE\n",
    "    \n",
    "    return fit, mode\n",
    "    "
   ]
  },
  {
   "cell_type": "markdown",
   "metadata": {
    "tags": [
     "problem=4",
     "points=2"
    ]
   },
   "source": [
    "### Problem 4 (2 points):\n",
    "\n",
    "> * Use `fit_model` to use both the monomial and Cheybshev bases to fit **4th degree** polynomials to the data, with the coefficient priors having standard deviation `csig=2.0`.  The notebook should execute one of the `fit_model` calls, but you should execute the other in a script, just including the plot in the notebook.  Use the returned `fit` objects to assure yourself of convergence and good mixing.  You need not provide plots and printouts in the notebook for this, but you should have a Markdown cell *briefly* describing what you did regarding output diagnostics.\n",
    "> * Briefly comment on what the two fits tell you about sensitivity of the results to the prior over polynomials."
   ]
  },
  {
   "cell_type": "markdown",
   "metadata": {
    "tags": [
     "problem=5",
     "points=2"
    ]
   },
   "source": [
    "### Problem 5 (2 points):\n",
    "\n",
    "> * Use `fit_model` to use both monomial and Cheybshev bases to fit **5th degree** polynomials to the data, with a prior standard deviation `csig=2.`.  Show the plots you produce in the notebook, clearly identified (the code should be in a separate script).\n",
    "> * In words, compare the 4th degree and 5th degree results, and briefly comment on the implications of the difference for using phenomenological vs. physical models to make predictions from climate data."
   ]
  }
 ],
 "metadata": {
  "kernelspec": {
   "display_name": "Python 3",
   "language": "python",
   "name": "python3"
  },
  "language_info": {
   "codemirror_mode": {
    "name": "ipython",
    "version": 3
   },
   "file_extension": ".py",
   "mimetype": "text/x-python",
   "name": "python",
   "nbconvert_exporter": "python",
   "pygments_lexer": "ipython3",
   "version": "3.7.0"
  }
 },
 "nbformat": 4,
 "nbformat_minor": 2
}
