{
 "cells": [
  {
   "cell_type": "markdown",
   "metadata": {
    "ein.tags": "worksheet-0",
    "slideshow": {
     "slide_type": "-"
    }
   },
   "source": [
    "# Today's goals\n",
    "\n",
    "Today we will go over some basic scientific computing tasks that will come up throughout the rest of the course. Broadly, the goal of today's lab is to spend some time in a Python Jupyter Notebook using SciPy/NumPy/Matplotlib, and to see how to make our way in this world with the aid of documentation, the internet, and some guessing. We will do this by working through the following concrete tasks:\n",
    " 1. Write a little function\n",
    "    - Plot it\n",
    "    - Numerically compute its integral\n",
    " 1. Find the probability density functions of a few common distributions and plot them\n",
    " 1. Draw (pseudo)random samples from a few common distributions and plot histograms of these\n",
    " 1. Plot a density histogram of samples from a distribution and overlay its probability density\n",
    " 1. Read in some data and plot it\n",
    " 1. Break our Git repositories and then fix them\n",
    " "
   ]
  },
  {
   "cell_type": "markdown",
   "metadata": {
    "ein.tags": "worksheet-0",
    "slideshow": {
     "slide_type": "-"
    }
   },
   "source": [
    "# 1) Some little functions\n",
    "\n",
    "In this exercise, we are going to spend some time with the functions\n",
    "$$f(x) = e^{-\\frac{x^2}{2e}}\\text{ for } x \\in \\mathbb{R}$$ $$g(x) = \\frac{1}{6}x^4e^{5-ex}\\text{ for } x \\in [0,\\infty)$$\n",
    "Both of these can be solved analytically, but today we're going to plot them and then compute their integrals numerically using SciPy. If time permits, we'll also find the exact solutions using a \"magic trick\" for integration that commonly appears in probability and statistics."
   ]
  },
  {
   "cell_type": "markdown",
   "metadata": {
    "ein.tags": "worksheet-0",
    "slideshow": {
     "slide_type": "-"
    }
   },
   "source": [
    "## 1) a.\n",
    "Write two functions, called `f` and `g`, which take a real number (ok, a `float`) as input and returns the function values as defined above. Include a docstring. Your docstring magically becomes the `__doc__` attribute of your function; check this by running `f.__doc__`."
   ]
  },
  {
   "cell_type": "code",
   "execution_count": null,
   "metadata": {
    "autoscroll": false,
    "ein.hycell": false,
    "ein.tags": "worksheet-0",
    "slideshow": {
     "slide_type": "-"
    }
   },
   "outputs": [],
   "source": [
    "import numpy as np  # scipy inclues a np.exp() function which computes e^x\n",
    "def f(x):\n",
    "    \"\"\" Put your docstring describing f here! \"\"\"\n",
    "\n",
    "def g(x):\n",
    "    \"\"\" Put your docstring describing g here! \"\"\"\n",
    "    "
   ]
  },
  {
   "cell_type": "markdown",
   "metadata": {
    "ein.tags": "worksheet-0",
    "slideshow": {
     "slide_type": "-"
    }
   },
   "source": [
    "## 1) b.\n",
    "Plot both functions on the interval $[-10,10]$. Either don't evaluate $g$ for $x<0$ or take $g(x) = 0$ for $x<0$.\n",
    "Do this by\n",
    " 1. Creating an evenly spaced grid of points between $-10$ and $10$. It is OK to use a grid on $[-10,10]$ for `f` and a grid on $[0,10]$ for `g`. Hint: investigate the `np.linspace()` function.\n",
    " 2. Evaluating the functions on this grid\n",
    " 3. Plotting the functions using `plt.plot()`."
   ]
  },
  {
   "cell_type": "code",
   "execution_count": null,
   "metadata": {
    "autoscroll": false,
    "ein.hycell": false,
    "ein.tags": "worksheet-0",
    "slideshow": {
     "slide_type": "-"
    }
   },
   "outputs": [],
   "source": [
    "from matplotlib import pyplot as plt "
   ]
  },
  {
   "cell_type": "markdown",
   "metadata": {
    "ein.tags": "worksheet-0",
    "slideshow": {
     "slide_type": "-"
    }
   },
   "source": [
    "## 1) c.\n",
    "Numerically integrate each function. Hint: you can do this with SciPy, but you will have to `import` a submodule. Try checking `?scipy`.\n",
    "\n",
    "For either of them, do you have a guess for the analytical value of the integral?"
   ]
  },
  {
   "cell_type": "code",
   "execution_count": null,
   "metadata": {
    "autoscroll": false,
    "ein.hycell": false,
    "ein.tags": "worksheet-0",
    "slideshow": {
     "slide_type": "-"
    }
   },
   "outputs": [],
   "source": [
    "from scipy import  ## THIS COMMAND IS NOT COMPLETE; FILL IT IN"
   ]
  },
  {
   "cell_type": "markdown",
   "metadata": {
    "ein.tags": "worksheet-0",
    "slideshow": {
     "slide_type": "-"
    }
   },
   "source": [
    "# 2) Probability distributions in SciPy\n",
    "\n",
    "SciPy has utilities for dealing with probability distributions. We are going to do some basic tasks with the normal and gamma distributions"
   ]
  },
  {
   "cell_type": "markdown",
   "metadata": {
    "ein.tags": "worksheet-0",
    "slideshow": {
     "slide_type": "-"
    }
   },
   "source": [
    "## 2) a.\n",
    "First, let's deal with the gamma distribution. Consider a $\\text{Gamma}(\\alpha=5,\\theta=1/3)$ distribution. This distribution has probability density function $$f(x) = \\frac{1}{\\Gamma(\\alpha)\\theta^\\alpha} x^{\\alpha-1}e^{-x/\\theta}.$$\n",
    "\n",
    "Plot the p.d.f. of this distribution. Do it without writing a function for the p.d.f., but instead use an instance of the `scipy.stats.gamma` object. "
   ]
  },
  {
   "cell_type": "code",
   "execution_count": null,
   "metadata": {
    "autoscroll": false,
    "ein.hycell": false,
    "ein.tags": "worksheet-0",
    "slideshow": {
     "slide_type": "-"
    }
   },
   "outputs": [],
   "source": [
    "from scipy import stats as stats"
   ]
  },
  {
   "cell_type": "markdown",
   "metadata": {
    "ein.tags": "worksheet-0",
    "slideshow": {
     "slide_type": "-"
    }
   },
   "source": [
    "## 2) b.\n",
    "Now, draw an i.i.d. sample of size $n=1000$, $X_i \\sim \\text{Gamma}(\\alpha=5,\\beta=1/3)$ from this distribution. You can use the same `gamma` object as you used for plotting the probability density function. Plot a histogram of these samples. Can you overlay the probability density?"
   ]
  },
  {
   "cell_type": "markdown",
   "metadata": {
    "ein.tags": "worksheet-0",
    "slideshow": {
     "slide_type": "-"
    }
   },
   "source": [
    "## 2) c.\n",
    "What is the sample mean of the sample you drew in the above question? What is the \"population\" mean, i.e. $\\mathbb{E}[X_1]$? Can you compute it by hand? Can you compute it using the `gamma` object?"
   ]
  },
  {
   "cell_type": "markdown",
   "metadata": {
    "ein.tags": "worksheet-0",
    "slideshow": {
     "slide_type": "-"
    }
   },
   "source": [
    "## 2) d.\n",
    "Compute an estimate of $\\mathbb{E}[\\sin(X_i)]$ using your sample. Can you compute this with the `gamma` object?"
   ]
  },
  {
   "cell_type": "markdown",
   "metadata": {
    "ein.tags": "worksheet-0",
    "slideshow": {
     "slide_type": "-"
    }
   },
   "source": [
    "## 2) e.\n",
    "Do all of the above for an i.i.d. sample of size $n=1000$, $Y_i \\sim \\text{N}(\\mu=3,\\sigma=4)$. Plots should be on $[-17,23]$."
   ]
  },
  {
   "cell_type": "markdown",
   "metadata": {
    "ein.tags": "worksheet-0",
    "slideshow": {
     "slide_type": "-"
    }
   },
   "source": [
    "# 3.\n",
    "Read in the `co2.csv` file and plot the first column (year) on the x-axis, second column (co2 concentration) on the y-axis. Be careful about types! Python may try to read your data as strings rather than numbers."
   ]
  },
  {
   "cell_type": "code",
   "execution_count": null,
   "metadata": {
    "autoscroll": false,
    "ein.hycell": false,
    "ein.tags": "worksheet-0",
    "slideshow": {
     "slide_type": "-"
    }
   },
   "outputs": [],
   "source": [
    "import csv"
   ]
  }
 ],
 "metadata": {
  "kernelspec": {
   "display_name": "Python 3",
   "language": "python",
   "name": "python3"
  },
  "language_info": {
   "codemirror_mode": {
    "name": "ipython",
    "version": 3
   },
   "file_extension": ".py",
   "mimetype": "text/x-python",
   "name": "python",
   "nbconvert_exporter": "python",
   "pygments_lexer": "ipython3",
   "version": "3.7.6"
  },
  "name": "Lab02.ipynb"
 },
 "nbformat": 4,
 "nbformat_minor": 4
}
