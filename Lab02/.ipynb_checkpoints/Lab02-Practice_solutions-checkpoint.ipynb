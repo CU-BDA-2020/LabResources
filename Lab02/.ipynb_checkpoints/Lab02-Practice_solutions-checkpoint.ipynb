{
 "cells": [
  {
   "cell_type": "markdown",
   "metadata": {
    "ein.tags": "worksheet-0",
    "slideshow": {
     "slide_type": "-"
    }
   },
   "source": [
    "# Today's goals\n",
    "\n",
    "Today we will go over some basic scientific computing tasks that will come up throughout the rest of the course. Broadly, the goal of today's lab is to spend some time in a Python Jupyter Notebook using SciPy/NumPy/Matplotlib, and to see how to make our way in this world with the aid of documentation, the internet, and some guessing. We will do this by working through the following concrete tasks:\n",
    " 1. Write a little function\n",
    "    - Plot it\n",
    "    - Numerically compute its integral\n",
    " 1. Find the probability density functions of a few common distributions and plot them\n",
    " 1. Draw (pseudo)random samples from a few common distributions and plot histograms of these\n",
    " 1. Plot a density histogram of samples from a distribution and overlay its probability density\n",
    " 1. Read in some data and plot it\n",
    " 1. Break our Git repositories and then fix them\n",
    " "
   ]
  },
  {
   "cell_type": "markdown",
   "metadata": {
    "ein.tags": "worksheet-0",
    "slideshow": {
     "slide_type": "-"
    }
   },
   "source": [
    "# 1) Some little functions\n",
    "\n",
    "In this exercise, we are going to spend some time with the functions\n",
    "$$f(x) = e^{-\\frac{x^2}{2e}}\\text{ for } x \\in \\mathbb{R}$$ $$g(x) = \\frac{1}{6}x^4e^{5-ex}\\text{ for } x \\in [0,\\infty)$$\n",
    "Both of these can be solved analytically, but today we're going to plot them and then compute their integrals numerically using SciPy. If time permits, we'll also find the exact solutions using a \"magic trick\" for integration that commonly appears in probability and statistics."
   ]
  },
  {
   "cell_type": "markdown",
   "metadata": {
    "ein.tags": "worksheet-0",
    "slideshow": {
     "slide_type": "-"
    }
   },
   "source": [
    "## 1) a.\n",
    "Write two functions, called `f` and `g`, which take a real number (ok, a `float`) as input and returns the function values as defined above. Include a docstring. Your docstring magically becomes the `__doc__` attribute of your function; check this by running `f.__doc__`."
   ]
  },
  {
   "cell_type": "code",
   "execution_count": 1,
   "metadata": {
    "autoscroll": false,
    "ein.hycell": false,
    "ein.tags": "worksheet-0",
    "slideshow": {
     "slide_type": "-"
    }
   },
   "outputs": [
    {
     "data": {
      "text/plain": [
       "' Put your docstring describing f here! '"
      ]
     },
     "execution_count": 1,
     "metadata": {},
     "output_type": "execute_result"
    }
   ],
   "source": [
    "import numpy as np  # scipy inclues a np.exp() function which computes e^x\n",
    "def f(x):\n",
    "    \"\"\" Put your docstring describing f here! \"\"\"\n",
    "    term1 = np.exp(-x**2/(2*np.exp(1)))\n",
    "    return(term1)\n",
    "def g(x):\n",
    "    \"\"\" Put your docstring describing g here! \"\"\"\n",
    "    term2 = x**4 * np.exp(5 - np.exp(1)*x)/6\n",
    "    return(term2)\n",
    "f.__doc__"
   ]
  },
  {
   "cell_type": "markdown",
   "metadata": {
    "ein.tags": "worksheet-0",
    "slideshow": {
     "slide_type": "-"
    }
   },
   "source": [
    "## 1) b.\n",
    "Plot both functions on the interval $[-10,10]$. Either don't evaluate $g$ for $x<0$ or take $g(x) = 0$ for $x<0$.\n",
    "Do this by\n",
    " 1. Creating an evenly spaced grid of points between $-10$ and $10$. It is OK to use a grid on $[-10,10]$ for `f` and a grid on $[0,10]$ for `g`. Hint: investigate the `np.linspace()` function.\n",
    " 2. Evaluating the functions on this grid\n",
    " 3. Plotting the functions using `plt.plot()`."
   ]
  },
  {
   "cell_type": "code",
   "execution_count": 2,
   "metadata": {
    "autoscroll": false,
    "ein.hycell": false,
    "ein.tags": "worksheet-0",
    "slideshow": {
     "slide_type": "-"
    }
   },
   "outputs": [
    {
     "data": {
      "image/png": "[encoded data removed]",
      "text/plain": [
       "<Figure size 432x288 with 1 Axes>"
      ]
     },
     "metadata": {
      "needs_background": "light"
     },
     "output_type": "display_data"
    }
   ],
   "source": [
    "from matplotlib import pyplot as plt \n",
    "xf = np.linspace(-10,10,1000)\n",
    "xg = np.linspace(0,10,500)\n",
    "plt.plot(xf,f(xf))\n",
    "plt.plot(xg,g(xg))\n",
    "plt.show()"
   ]
  },
  {
   "cell_type": "markdown",
   "metadata": {
    "ein.tags": "worksheet-0",
    "slideshow": {
     "slide_type": "-"
    }
   },
   "source": [
    "## 1) c.\n",
    "Numerically integrate each function. Hint: you can do this with SciPy, but you will have to `import` a submodule. Try checking `?scipy`.\n",
    "\n",
    "For either of them, do you have a guess for the analytical value of the integral?"
   ]
  },
  {
   "cell_type": "code",
   "execution_count": 3,
   "metadata": {
    "autoscroll": false,
    "ein.hycell": false,
    "ein.tags": "worksheet-0",
    "slideshow": {
     "slide_type": "-"
    }
   },
   "outputs": [
    {
     "data": {
      "text/plain": [
       "(4.132731354122493, 1.1797863242732579e-08)"
      ]
     },
     "execution_count": 3,
     "metadata": {},
     "output_type": "execute_result"
    }
   ],
   "source": [
    "from scipy import integrate as integrate\n",
    "integrate.quad(f,a=-np.inf,b=np.inf)"
   ]
  },
  {
   "cell_type": "code",
   "execution_count": 4,
   "metadata": {
    "autoscroll": false,
    "ein.hycell": false,
    "ein.tags": "worksheet-0",
    "slideshow": {
     "slide_type": "-"
    }
   },
   "outputs": [
    {
     "data": {
      "text/plain": [
       "(4.000000000000001, 1.909647518120671e-08)"
      ]
     },
     "execution_count": 4,
     "metadata": {},
     "output_type": "execute_result"
    }
   ],
   "source": [
    "integrate.quad(g,a=0,b=np.inf)"
   ]
  },
  {
   "cell_type": "markdown",
   "metadata": {
    "ein.tags": "worksheet-0",
    "slideshow": {
     "slide_type": "-"
    }
   },
   "source": [
    "# 2) Probability distributions in SciPy\n",
    "\n",
    "SciPy has utilities for dealing with probability distributions. We are going to do some basic tasks with the normal and gamma distributions"
   ]
  },
  {
   "cell_type": "markdown",
   "metadata": {
    "ein.tags": "worksheet-0",
    "slideshow": {
     "slide_type": "-"
    }
   },
   "source": [
    "## 2) a.\n",
    "First, let's deal with the gamma distribution. Consider a $\\text{Gamma}(\\alpha=5,\\theta=1/3)$ distribution. This distribution has probability density function $$f(x) = \\frac{1}{\\Gamma(\\alpha)\\theta^\\alpha} x^{\\alpha-1}e^{-x/\\theta}.$$\n",
    "\n",
    "Plot the p.d.f. of this distribution. Do it without writing a function for the p.d.f., but instead use an instance of the `scipy.stats.gamma` object. "
   ]
  },
  {
   "cell_type": "code",
   "execution_count": 5,
   "metadata": {
    "autoscroll": false,
    "ein.hycell": false,
    "ein.tags": "worksheet-0",
    "slideshow": {
     "slide_type": "-"
    }
   },
   "outputs": [
    {
     "data": {
      "image/png": "[encoded data removed]",
      "text/plain": [
       "<Figure size 432x288 with 1 Axes>"
      ]
     },
     "metadata": {
      "needs_background": "light"
     },
     "output_type": "display_data"
    }
   ],
   "source": [
    "from scipy import stats as stats\n",
    "gam = stats.gamma(a=5,scale=1/3) # Create \"frozen\" instance of gamma(a=5,b=3)\n",
    "x = np.linspace(0,10,1000)\n",
    "plt.plot(x,gam.pdf(x))\n",
    "plt.show()"
   ]
  },
  {
   "cell_type": "markdown",
   "metadata": {
    "ein.tags": "worksheet-0",
    "slideshow": {
     "slide_type": "-"
    }
   },
   "source": [
    "## 2) b.\n",
    "Now, draw an i.i.d. sample of size $n=1000$, $X_i \\sim \\text{Gamma}(\\alpha=5,\\beta=1/3)$ from this distribution. You can use the same `gamma` object as you used for plotting the probability density function. Plot a histogram of these samples. Can you overlay the probability density?"
   ]
  },
  {
   "cell_type": "code",
   "execution_count": 6,
   "metadata": {
    "autoscroll": false,
    "ein.hycell": false,
    "ein.tags": "worksheet-0",
    "slideshow": {
     "slide_type": "-"
    }
   },
   "outputs": [
    {
     "data": {
      "image/png": "[encoded data removed]",
      "text/plain": [
       "<Figure size 432x288 with 1 Axes>"
      ]
     },
     "metadata": {
      "needs_background": "light"
     },
     "output_type": "display_data"
    }
   ],
   "source": [
    "samps = gam.rvs(size=1000)\n",
    "plt.hist(samps,density=True,bins=50)\n",
    "plt.plot(x,gam.pdf(x))\n",
    "plt.show()"
   ]
  },
  {
   "cell_type": "markdown",
   "metadata": {
    "ein.tags": "worksheet-0",
    "slideshow": {
     "slide_type": "-"
    }
   },
   "source": [
    "## 2) c.\n",
    "What is the sample mean of the sample you drew in the above question? What is the \"population\" mean, i.e. $\\mathbb{E}[X_1]$? Can you compute it by hand? Can you compute it using the `gamma` object?"
   ]
  },
  {
   "cell_type": "code",
   "execution_count": 7,
   "metadata": {
    "autoscroll": false,
    "ein.hycell": false,
    "ein.tags": "worksheet-0",
    "slideshow": {
     "slide_type": "-"
    }
   },
   "outputs": [
    {
     "name": "stdout",
     "output_type": "stream",
     "text": [
      "1.6888195904985486\n",
      "1.6666666666666665\n",
      "1.6666666666666667\n"
     ]
    }
   ],
   "source": [
    "print(np.mean(samps)) # Sample mean\n",
    "print(gam.mean()) # From `gamma` object\n",
    "print(5/3) # By hand"
   ]
  },
  {
   "cell_type": "markdown",
   "metadata": {
    "ein.tags": "worksheet-0",
    "slideshow": {
     "slide_type": "-"
    }
   },
   "source": [
    "## 2) d.\n",
    "Compute an estimate of $\\mathbb{E}[\\sin(X_i)]$ using your sample. Can you compute this with the `gamma` object?"
   ]
  },
  {
   "cell_type": "code",
   "execution_count": 8,
   "metadata": {
    "autoscroll": false,
    "ein.hycell": false,
    "ein.tags": "worksheet-0",
    "slideshow": {
     "slide_type": "-"
    }
   },
   "outputs": [
    {
     "name": "stdout",
     "output_type": "stream",
     "text": [
      "0.7537466310698094\n",
      "0.7678799999999998\n"
     ]
    }
   ],
   "source": [
    "print(np.mean(np.sin(samps)))\n",
    "print(gam.expect(np.sin))"
   ]
  },
  {
   "cell_type": "markdown",
   "metadata": {
    "ein.tags": "worksheet-0",
    "slideshow": {
     "slide_type": "-"
    }
   },
   "source": [
    "## 2) e.\n",
    "Do all of the above for an i.i.d. sample of size $n=1000$, $Y_i \\sim \\text{N}(\\mu=3,\\sigma=4)$. Plots should be on $[-17,23]$."
   ]
  },
  {
   "cell_type": "code",
   "execution_count": 9,
   "metadata": {
    "autoscroll": false,
    "ein.hycell": false,
    "ein.tags": "worksheet-0",
    "slideshow": {
     "slide_type": "-"
    }
   },
   "outputs": [
    {
     "data": {
      "image/png": "[encoded data removed]",
      "text/plain": [
       "<Figure size 432x288 with 1 Axes>"
      ]
     },
     "metadata": {
      "needs_background": "light"
     },
     "output_type": "display_data"
    }
   ],
   "source": [
    "nor = stats.norm(loc=3,scale=4) # Create \"frozen\" instance of gamma(a=5,b=3)\n",
    "x = np.linspace(-17,23,1000)\n",
    "plt.plot(x,nor.pdf(x))\n",
    "plt.show()"
   ]
  },
  {
   "cell_type": "code",
   "execution_count": 10,
   "metadata": {
    "autoscroll": false,
    "ein.hycell": false,
    "ein.tags": "worksheet-0",
    "slideshow": {
     "slide_type": "-"
    }
   },
   "outputs": [
    {
     "data": {
      "image/png": "[encoded data removed]",
      "text/plain": [
       "<Figure size 432x288 with 1 Axes>"
      ]
     },
     "metadata": {
      "needs_background": "light"
     },
     "output_type": "display_data"
    }
   ],
   "source": [
    "samps = nor.rvs(size=1000)\n",
    "plt.hist(samps,density=True,bins=50)\n",
    "plt.plot(x,nor.pdf(x))\n",
    "plt.show()\n"
   ]
  },
  {
   "cell_type": "code",
   "execution_count": 11,
   "metadata": {
    "autoscroll": false,
    "ein.hycell": false,
    "ein.tags": "worksheet-0",
    "slideshow": {
     "slide_type": "-"
    }
   },
   "outputs": [
    {
     "name": "stdout",
     "output_type": "stream",
     "text": [
      "3.1951333413867116\n",
      "3.0\n"
     ]
    }
   ],
   "source": [
    "print(np.mean(samps)) # Sample mean\n",
    "print(nor.mean()) # From `gamma` object"
   ]
  },
  {
   "cell_type": "code",
   "execution_count": 12,
   "metadata": {
    "autoscroll": false,
    "ein.hycell": false,
    "ein.tags": "worksheet-0",
    "slideshow": {
     "slide_type": "-"
    }
   },
   "outputs": [
    {
     "name": "stdout",
     "output_type": "stream",
     "text": [
      "-0.015494738353077957\n",
      "4.734048875338834e-05\n"
     ]
    }
   ],
   "source": [
    "print(np.mean(np.sin(samps)))\n",
    "print(nor.expect(np.sin))"
   ]
  },
  {
   "cell_type": "markdown",
   "metadata": {
    "ein.tags": "worksheet-0",
    "slideshow": {
     "slide_type": "-"
    }
   },
   "source": [
    "# 3.\n",
    "Read in the `co2.csv` file and plot the first column (year) on the x-axis, second column (co2 concentration) on the y-axis. Be careful about types! Python may try to read your data as strings rather than numbers."
   ]
  },
  {
   "cell_type": "code",
   "execution_count": 13,
   "metadata": {
    "autoscroll": false,
    "ein.hycell": false,
    "ein.tags": "worksheet-0",
    "slideshow": {
     "slide_type": "-"
    }
   },
   "outputs": [
    {
     "data": {
      "image/png": "[encoded data removed]",
      "text/plain": [
       "<Figure size 432x288 with 1 Axes>"
      ]
     },
     "metadata": {
      "needs_background": "light"
     },
     "output_type": "display_data"
    }
   ],
   "source": [
    "import csv\n",
    "reader = list(csv.reader(open(\"co2.csv\",\"r\")))\n",
    "nrow = len(reader[1:])\n",
    "\n",
    "years = np.zeros(nrow)\n",
    "co2 = np.zeros(nrow)\n",
    "for i, row in enumerate(reader[1:]):\n",
    "    years[i] = row[0]\n",
    "    co2[i] = row[1]\n",
    "\n",
    "years = np.array([ np.float(r[0]) for r in reader[1:] ])\n",
    "co2 = np.array([ np.float(r[1]) for r in reader[1:] ])\n",
    "\n",
    "plt.plot(years,co2)\n",
    "plt.show()"
   ]
  }
 ],
 "metadata": {
  "kernelspec": {
   "display_name": "Python 3",
   "language": "python",
   "name": "python3"
  },
  "language_info": {
   "codemirror_mode": {
    "name": "ipython",
    "version": 3
   },
   "file_extension": ".py",
   "mimetype": "text/x-python",
   "name": "python",
   "nbconvert_exporter": "python",
   "pygments_lexer": "ipython3",
   "version": "3.7.6"
  },
  "name": "Lab02.ipynb"
 },
 "nbformat": 4,
 "nbformat_minor": 4
}
