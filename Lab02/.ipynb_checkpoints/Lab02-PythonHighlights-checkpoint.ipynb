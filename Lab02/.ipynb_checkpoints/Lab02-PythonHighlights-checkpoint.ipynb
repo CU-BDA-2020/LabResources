{
 "cells": [
  {
   "cell_type": "markdown",
   "metadata": {},
   "source": [
    "# Jupyter notebook quick overview\n",
    "\n",
    "A **notebook** is comprised of **cells** that can hold different types of content (e.g., Python code, Markdown text).\n",
    "\n",
    "You interact with a notebook via two **modes**, determining whether your interaction affects a single cell's content, or the notebook stucture:\n",
    "* **Edit mode:** \n",
    "    - For cell-level interactions, e.g., entering/altering the content of a cell\n",
    "    - Indicated by a *green* cell border, and a pen icon at the right of the menu bar\n",
    "    - Enter by clicking in a cell, or hitting **Return**\n",
    "* **Command mode:**\n",
    "    - Indicated by a *gray* cell border, and no pen icon at the right of the menu bar\n",
    "    - For notebook-level interaction\n",
    "    - Enter by clicking outside cells, or **Ctrl-M**, or **Esc** when in Edit mode\n",
    "\n",
    "Help:\n",
    "* **Ctrl-M H** (i.e., type **H** in command mode): List keyboard shortcuts (also in **Help** menu)\n",
    "* **Help** menu accesses help for notebooks, Python, Markdown, and more\n",
    "\n",
    "Oft-used *Edit mode* keyboard shortcuts:\n",
    "* **Return (Enter)** is a normal \"newline;\" it does *not* execute the cell contents (as it would in a regular IPy session)\n",
    "* **Shift-Return** executes the code in a code cell, or renders Markdown in a Markdown cell, and moves to the next cell (same as the \"play\" button)\n",
    "* **Alt-Return** executes the code in the cell, creates a new cell below it, and moves to it\n",
    "* **Ctrl-Return** executes the code in the cell, but does not move to the next cell (or create a new one); use this for quick-and-dirty experimentation\n",
    "* **Ctrl-m h** displays a list of all keyboard shortcuts\n",
    "\n",
    "Oft-used *Command mode* keyboard shortcuts (also see buttons in the Toolbar):\n",
    "* **h**: Display list of commands with keyboard shortcuts\n",
    "* **up/down arrows**: Move between cells\n",
    "* **b**: Insert new cell **b**elow\n",
    "* **d d** (hit \"d\" twice): **D**elete selected cell\n",
    "* **i i** (hit \"i\" twice): **I**nterupt the Python session, e.g., to halt a long computation; also in the **Kernel** menu, or use the \"Stop\" button\n",
    "* **0 0** (hit \"0\" twice): Reset the Python session, e.g., for reloading edited modules (this loses values of all variables); also in the **Kernel** menu, or use the \"Cycle\" button\n",
    "* **Cmd-s** or **Ctrl-s**: Save the notebook (also just **s** if already in command mode); notebooks are autosaved at regular intervals\n",
    "\n",
    "Oft-used commands with no shortcuts:\n",
    "* **Cell>Run all**: Runs the whole notebook; this renumbers cells to be sequential\n",
    "* **Edit>Undo delete cell**: Restores the last-deleted cell\n",
    "* **File>Download as...**: Creates Python, HTML, or reST versions of the notebook\n",
    "* **Up/down arrow buttons** (in Toolbar): Move cell up or down, for re-ordering cells"
   ]
  },
  {
   "cell_type": "code",
   "execution_count": 1,
   "metadata": {},
   "outputs": [
    {
     "name": "stdout",
     "output_type": "stream",
     "text": [
      "Hello, world!!!\n"
     ]
    }
   ],
   "source": [
    "print('Hello, world!!!')"
   ]
  },
  {
   "cell_type": "code",
   "execution_count": null,
   "metadata": {},
   "outputs": [],
   "source": [
    "1+1"
   ]
  },
  {
   "cell_type": "code",
   "execution_count": null,
   "metadata": {},
   "outputs": [],
   "source": [
    "from os import system\n",
    "system('say Please stop, Dave')  # Mac only; Win/Linux needs pyttx module"
   ]
  },
  {
   "cell_type": "markdown",
   "metadata": {},
   "source": [
    "# This"
   ]
  },
  {
   "cell_type": "code",
   "execution_count": null,
   "metadata": {},
   "outputs": [],
   "source": [
    "import this"
   ]
  },
  {
   "cell_type": "markdown",
   "metadata": {},
   "source": [
    "# Instrospection"
   ]
  },
  {
   "cell_type": "markdown",
   "metadata": {},
   "source": [
    "Python provides a variety of **introspection** tools; IPython provides shortcuts to some of them. E.g., to get basic info about an object, prefix its name by \"?\":"
   ]
  },
  {
   "cell_type": "code",
   "execution_count": null,
   "metadata": {},
   "outputs": [],
   "source": [
    "?this"
   ]
  },
  {
   "cell_type": "markdown",
   "metadata": {},
   "source": [
    "For more detailed information, use \"??\"; if the object was loaded from a file, the source code will be displayed:"
   ]
  },
  {
   "cell_type": "code",
   "execution_count": null,
   "metadata": {},
   "outputs": [],
   "source": [
    "??this"
   ]
  },
  {
   "cell_type": "markdown",
   "metadata": {},
   "source": [
    "Hmm, Tim Peters has a sense of humor!"
   ]
  },
  {
   "cell_type": "markdown",
   "metadata": {},
   "source": [
    "To find out what resources an object offers (functions, values, classes, methods), examine its dictionary/directory with \"dir()\":"
   ]
  },
  {
   "cell_type": "code",
   "execution_count": null,
   "metadata": {},
   "outputs": [],
   "source": [
    "import numpy as np"
   ]
  },
  {
   "cell_type": "code",
   "execution_count": null,
   "metadata": {},
   "outputs": [],
   "source": [
    "dir(np)"
   ]
  },
  {
   "cell_type": "markdown",
   "metadata": {},
   "source": [
    "In Python, pretty much everything is an object and has a directory of attributes (names accessing different resources associated with the object):"
   ]
  },
  {
   "cell_type": "code",
   "execution_count": null,
   "metadata": {},
   "outputs": [],
   "source": [
    "dir(1)"
   ]
  },
  {
   "cell_type": "code",
   "execution_count": null,
   "metadata": {},
   "outputs": [],
   "source": [
    "i = 1\n",
    "i.bit_length()  # number of bits needed to represent the number"
   ]
  },
  {
   "cell_type": "code",
   "execution_count": null,
   "metadata": {},
   "outputs": [],
   "source": [
    "dir(1.)"
   ]
  },
  {
   "cell_type": "code",
   "execution_count": null,
   "metadata": {},
   "outputs": [],
   "source": [
    "f = 1.\n",
    "print('Is int?', f.is_integer())\n",
    "?f.hex\n",
    "print('Hex repn:', f.hex())"
   ]
  },
  {
   "cell_type": "markdown",
   "metadata": {},
   "source": [
    "# Variables are labels, not containers\n",
    "\n",
    "_**Highly recommended reading:**_  \n",
    "* [Understanding Python variables and Memory Management](http://foobarnbaz.com/2012/07/08/understanding-python-variables/)\n",
    "* [Python Objects](http://effbot.org/zone/python-objects.htm)\n",
    "* \"Appendix E: Under the Hood,\" in [*A Student's Guide to Python for Physical Modeling* (2018)](https://press.princeton.edu/titles/11349.html)"
   ]
  },
  {
   "cell_type": "code",
   "execution_count": null,
   "metadata": {},
   "outputs": [],
   "source": [
    "a = 1; b = 1  # two statements on the same line via \";\""
   ]
  },
  {
   "cell_type": "code",
   "execution_count": null,
   "metadata": {},
   "outputs": [],
   "source": [
    "a, b  # makes a tuple (even without parens)"
   ]
  },
  {
   "cell_type": "code",
   "execution_count": null,
   "metadata": {},
   "outputs": [],
   "source": [
    "id(a), id(b)  # returns address of object in memory"
   ]
  },
  {
   "cell_type": "code",
   "execution_count": null,
   "metadata": {},
   "outputs": [],
   "source": [
    "id(a) == id(b)  # this is an optimization for small ints "
   ]
  },
  {
   "cell_type": "code",
   "execution_count": null,
   "metadata": {},
   "outputs": [],
   "source": [
    "b = 2"
   ]
  },
  {
   "cell_type": "code",
   "execution_count": null,
   "metadata": {},
   "outputs": [],
   "source": [
    "a, b"
   ]
  },
  {
   "cell_type": "code",
   "execution_count": null,
   "metadata": {},
   "outputs": [],
   "source": [
    "a = [0, 1, 2]\n",
    "b = a"
   ]
  },
  {
   "cell_type": "code",
   "execution_count": null,
   "metadata": {},
   "outputs": [],
   "source": [
    "a, b"
   ]
  },
  {
   "cell_type": "code",
   "execution_count": null,
   "metadata": {},
   "outputs": [],
   "source": [
    "b = [3, 4, 5]"
   ]
  },
  {
   "cell_type": "code",
   "execution_count": null,
   "metadata": {},
   "outputs": [],
   "source": [
    "a, b"
   ]
  },
  {
   "cell_type": "code",
   "execution_count": null,
   "metadata": {},
   "outputs": [],
   "source": [
    "b = a"
   ]
  },
  {
   "cell_type": "code",
   "execution_count": null,
   "metadata": {},
   "outputs": [],
   "source": [
    "b[1] = 10  # assigning to a slice tries to change the target"
   ]
  },
  {
   "cell_type": "code",
   "execution_count": null,
   "metadata": {},
   "outputs": [],
   "source": [
    "a, b"
   ]
  },
  {
   "cell_type": "code",
   "execution_count": null,
   "metadata": {},
   "outputs": [],
   "source": [
    "b = a[:]  # for a list, slicing generates a copy\n",
    "c = list(a)  # make the sequence 'a' into a new list"
   ]
  },
  {
   "cell_type": "code",
   "execution_count": null,
   "metadata": {},
   "outputs": [],
   "source": [
    "b[1] = 11; c[1] = 12\n",
    "a, b, c"
   ]
  },
  {
   "cell_type": "code",
   "execution_count": null,
   "metadata": {},
   "outputs": [],
   "source": [
    "import copy  # module for copying arbitrary objects\n",
    "d = copy.copy(a)  # a \"shallow\" copy of a\n",
    "d[1] = -3\n",
    "a, d"
   ]
  },
  {
   "cell_type": "markdown",
   "metadata": {},
   "source": [
    "# NumPy arrays vs. lists"
   ]
  },
  {
   "cell_type": "code",
   "execution_count": null,
   "metadata": {},
   "outputs": [],
   "source": [
    "from numpy import *  # handy interactively; avoid in reusable modules\n",
    "a = array([0,1,2])"
   ]
  },
  {
   "cell_type": "code",
   "execution_count": null,
   "metadata": {},
   "outputs": [],
   "source": [
    "b = a[:]  # for arrays, slicing creates a VIEW\n",
    "b[1] = 11\n",
    "a, b"
   ]
  },
  {
   "cell_type": "code",
   "execution_count": null,
   "metadata": {},
   "outputs": [],
   "source": [
    "b = a.copy()  # arrays have a copy() method\n",
    "b[1] = 12\n",
    "a, b"
   ]
  },
  {
   "cell_type": "markdown",
   "metadata": {},
   "source": [
    "# Objects: classes and instances"
   ]
  },
  {
   "cell_type": "markdown",
   "metadata": {},
   "source": [
    "An \"object\" is a data structure meant to represent something that has both **state** and **behavior**.\n",
    "\n",
    "Both the state and behavior are accessed via **attributes** of the object---names appended to the object's label with a dot separator:  *object.attribute*.\n",
    "\n",
    "There are two types of attributes:\n",
    "* **Data** implement state and are accessed simply by name:"
   ]
  },
  {
   "cell_type": "code",
   "execution_count": null,
   "metadata": {},
   "outputs": [],
   "source": [
    "a.shape  # returns a list of the dimensions of an array"
   ]
  },
  {
   "cell_type": "code",
   "execution_count": null,
   "metadata": {},
   "outputs": [],
   "source": [
    "a.dtype"
   ]
  },
  {
   "cell_type": "markdown",
   "metadata": {},
   "source": [
    "* **Methods** implement behavior and are accessed much like a function call:"
   ]
  },
  {
   "cell_type": "code",
   "execution_count": null,
   "metadata": {},
   "outputs": [],
   "source": [
    "b.max()"
   ]
  },
  {
   "cell_type": "code",
   "execution_count": null,
   "metadata": {},
   "outputs": [],
   "source": [
    "a.dot(b)  # like a vector dot product"
   ]
  },
  {
   "cell_type": "markdown",
   "metadata": {},
   "source": [
    "A **class** is like a *template* for creating new objects with a specific set of data and method attributes."
   ]
  },
  {
   "cell_type": "code",
   "execution_count": null,
   "metadata": {},
   "outputs": [],
   "source": [
    "class NewClass:\n",
    "    \"\"\"\n",
    "    A simple container class that doesn't do much.\n",
    "    \n",
    "    Every class should have a docstring!\n",
    "    \"\"\"\n",
    "    \n",
    "    # \"Magic\" method names have \"__\" on each side and are\n",
    "    # automatically invoked under specific circumstances.\n",
    "    # __init__ is invoked to create an instance of the class.\n",
    "    \n",
    "    def __init__(self, a, b):\n",
    "        \"\"\"\n",
    "        Store two numerical values, and their product.\n",
    "        \"\"\"\n",
    "        self.a = a\n",
    "        self.b = b\n",
    "        self.ab = a*b\n",
    "    \n",
    "    def sum(self):\n",
    "        \"\"\"\n",
    "        Return the sum of the values.\n",
    "        \"\"\"\n",
    "        return self.a + self.b"
   ]
  },
  {
   "cell_type": "code",
   "execution_count": null,
   "metadata": {},
   "outputs": [],
   "source": [
    "nc1 = NewClass(1,2)\n",
    "nc2 = NewClass(3,4)"
   ]
  },
  {
   "cell_type": "code",
   "execution_count": null,
   "metadata": {},
   "outputs": [],
   "source": [
    "nc1.a, nc1.ab"
   ]
  },
  {
   "cell_type": "code",
   "execution_count": null,
   "metadata": {},
   "outputs": [],
   "source": [
    "nc2.sum()"
   ]
  },
  {
   "cell_type": "markdown",
   "metadata": {},
   "source": [
    "Why **self**?\n",
    "\n",
    "The class keeps a single copy of the instructions defining the behavior (methods).\n",
    "\n",
    "**Instantiating** an object creates a unique chunk of memory for the data, but points back to the class for the methods.  *self* lets that (shared) code access the data for a particular instance.\n",
    "\n",
    "This is an example of \"explicit is better than implicit.\"  Other object-oriented languages sometimes adopt conventions letting you avoid *self*, but this can be a cause of bugs."
   ]
  }
 ],
 "metadata": {
  "kernelspec": {
   "display_name": "Python 3",
   "language": "python",
   "name": "python3"
  },
  "language_info": {
   "codemirror_mode": {
    "name": "ipython",
    "version": 3
   },
   "file_extension": ".py",
   "mimetype": "text/x-python",
   "name": "python",
   "nbconvert_exporter": "python",
   "pygments_lexer": "ipython3",
   "version": "3.7.6"
  }
 },
 "nbformat": 4,
 "nbformat_minor": 1
}
